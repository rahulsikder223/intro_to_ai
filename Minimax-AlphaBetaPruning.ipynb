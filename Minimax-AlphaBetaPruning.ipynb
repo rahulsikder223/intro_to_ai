{
  "nbformat": 4,
  "nbformat_minor": 0,
  "metadata": {
    "colab": {
      "provenance": []
    },
    "kernelspec": {
      "name": "python3",
      "display_name": "Python 3"
    },
    "language_info": {
      "name": "python"
    }
  },
  "cells": [
    {
      "cell_type": "code",
      "execution_count": 7,
      "metadata": {
        "id": "D5FwxdMQQihl"
      },
      "outputs": [],
      "source": [
        "class Node:\n",
        "  def __init__(self, value, children):\n",
        "    self.value = value\n",
        "    self.children = children"
      ]
    },
    {
      "cell_type": "code",
      "source": [
        "# Value setting of the non-leaf nodes do not matter during initialization...\n",
        "# Their values will be updated as the algorithm progresses...\n",
        "\n",
        "tree_2ply = Node(None, children = [\n",
        "        Node(None, children = [\n",
        "                Node(None, children =[\n",
        "                        Node(None, children =[\n",
        "                                Node(8, children =[]),\n",
        "                                Node(23, children =[])\n",
        "                            ]),\n",
        "                        Node(None, children =[\n",
        "                                Node(-47, children =[]),\n",
        "                                Node(28, children =[])\n",
        "                            ])\n",
        "                    ]),\n",
        "                Node(None, children =[\n",
        "                        Node(None, children =[\n",
        "                                Node(-30, children =[]),\n",
        "                                Node(37, children =[])\n",
        "                            ]),\n",
        "                        Node(None, children =[\n",
        "                                Node(3, children =[]),\n",
        "                                Node(-41, children =[])\n",
        "                            ])\n",
        "                    ])\n",
        "            ]),\n",
        "        Node(None, children =[\n",
        "                Node(None, children =[\n",
        "                        Node(None, children =[\n",
        "                                Node(-19, children =[]),\n",
        "                                Node(4, children =[])\n",
        "                            ]),\n",
        "                        Node(None, children =[\n",
        "                                Node(-49, children =[]),\n",
        "                                Node(4, children =[])\n",
        "                            ])\n",
        "                    ]),\n",
        "                Node(None, children =[\n",
        "                        Node(None, children =[\n",
        "                                Node(43, children =[]),\n",
        "                                Node(45, children =[])\n",
        "                            ]),\n",
        "                        Node(None, children =[\n",
        "                                Node(-26, children =[]),\n",
        "                                Node(-14, children =[])\n",
        "                            ])\n",
        "                    ])\n",
        "            ])\n",
        "    ])"
      ],
      "metadata": {
        "id": "OCeNxesGSiNO"
      },
      "execution_count": 36,
      "outputs": []
    },
    {
      "cell_type": "code",
      "source": [
        "# 4-Ply examples...\n",
        "\n",
        "tree_4ply_1 = Node(\n",
        "    None,\n",
        "    children = [\n",
        "        Node(3, children = []),\n",
        "        Node(6, children = []),\n",
        "        Node(1, children = []),\n",
        "        Node(0, children = [])\n",
        "    ]\n",
        ")\n",
        "\n",
        "tree_4ply_2 = Node(\n",
        "    None,\n",
        "    children = [\n",
        "        Node(None, children = [\n",
        "            Node(3, children = []),\n",
        "            Node(5, children = []),\n",
        "            Node(1, children = []),\n",
        "            Node(6, children = [])\n",
        "        ]),\n",
        "        Node(None, children = [\n",
        "            Node(6, children = []),\n",
        "            Node(9, children = []),\n",
        "            Node(23, children = []),\n",
        "            Node(15, children = [])\n",
        "        ]),\n",
        "        Node(None, children = [\n",
        "            Node(11, children = []),\n",
        "            Node(26, children = []),\n",
        "            Node(32, children = []),\n",
        "            Node(51, children = [])\n",
        "        ]),\n",
        "        Node(None, children = [\n",
        "            Node(60, children = []),\n",
        "            Node(-14, children = []),\n",
        "            Node(-34, children = []),\n",
        "            Node(58, children = [])\n",
        "        ])\n",
        "    ]\n",
        ")\n",
        "\n",
        "tree_4ply_3 = Node(\n",
        "    None,\n",
        "    children = [\n",
        "        Node(None, children = [\n",
        "            Node(14, children = []),\n",
        "            Node(20, children = [])\n",
        "        ]),\n",
        "        Node(None, children = [\n",
        "            Node(16, children = []),\n",
        "            Node(59, children = [])\n",
        "        ]),\n",
        "        Node(None, children = [\n",
        "            Node(11, children = []),\n",
        "            Node(26, children = [])\n",
        "        ]),\n",
        "        Node(None, children = [\n",
        "            Node(30, children = []),\n",
        "            Node(-100, children = [])\n",
        "        ])\n",
        "    ]\n",
        ")"
      ],
      "metadata": {
        "id": "Tyq1e60YJgHW"
      },
      "execution_count": 29,
      "outputs": []
    },
    {
      "cell_type": "code",
      "source": [
        "def minimax(node, depth, is_max):\n",
        "  if depth == 0 or not node.children:\n",
        "    return node.value\n",
        "\n",
        "  if is_max:\n",
        "    value = -99999999\n",
        "    for child in node.children:\n",
        "      eval = minimax(child, depth - 1, False)\n",
        "      value = max(value, eval)\n",
        "    return value\n",
        "  else:\n",
        "    value = 99999999\n",
        "    for child in node.children:\n",
        "      eval = minimax(child, depth - 1, True)\n",
        "      value = min(value, eval)\n",
        "    return value"
      ],
      "metadata": {
        "id": "At3BXPrMQ_Rd"
      },
      "execution_count": 18,
      "outputs": []
    },
    {
      "cell_type": "code",
      "source": [
        "print(\"Minimax -> 2-Ply Test Case: \", minimax(tree_2ply, 4, True))\n",
        "print(\"Minimax -> 4-Ply Test Case 1: \", minimax(tree_4ply_1, 4, True))\n",
        "print(\"Minimax -> 4-Ply Test Case 2: \", minimax(tree_4ply_2, 4, True))\n",
        "print(\"Minimax -> 4-Ply Test Case 3: \", minimax(tree_4ply_3, 4, True))"
      ],
      "metadata": {
        "colab": {
          "base_uri": "https://localhost:8080/"
        },
        "id": "CWCF5_E2WDZI",
        "outputId": "ba4ca781-2ef1-4da0-88cf-39c0f62cbbb6"
      },
      "execution_count": 42,
      "outputs": [
        {
          "output_type": "stream",
          "name": "stdout",
          "text": [
            "Minimax -> 2-Ply Test Case:  -19\n",
            "Minimax -> 4-Ply Test Case 1:  6\n",
            "Minimax -> 4-Ply Test Case 2:  11\n",
            "Minimax -> 4-Ply Test Case 3:  16\n"
          ]
        }
      ]
    },
    {
      "cell_type": "code",
      "source": [
        "def minimax_alpha_beta(node, depth, alpha, beta, is_max):\n",
        "  if depth == 0 or not node.children:\n",
        "    return node.value\n",
        "\n",
        "  if is_max:\n",
        "    value = -99999999\n",
        "    for child in node.children:\n",
        "      minimax_val = minimax_alpha_beta(child, depth - 1, alpha, beta, False)\n",
        "      value = max(value, minimax_val)\n",
        "      alpha = max(alpha, minimax_val)\n",
        "      if beta <= alpha:\n",
        "        break\n",
        "    return value\n",
        "  else:\n",
        "    value = 99999999\n",
        "    for child in node.children:\n",
        "      minimax_val = minimax_alpha_beta(child, depth - 1, alpha, beta, True)\n",
        "      value = min(value, minimax_val)\n",
        "      beta = min(beta, minimax_val)\n",
        "      if beta <= alpha:\n",
        "        break\n",
        "    return value"
      ],
      "metadata": {
        "id": "PDFRbGpm0TXh"
      },
      "execution_count": 12,
      "outputs": []
    },
    {
      "cell_type": "code",
      "source": [
        "print(\"Alpha-Beta Pruning -> 2-Ply Test Case: \", minimax_alpha_beta(tree_2ply, 4, -99999999, 99999999, True))\n",
        "print(\"Alpha-Beta Pruning -> 4-Ply Test Case 1: \", minimax_alpha_beta(tree_4ply_1, 4, -99999999, 99999999, True))\n",
        "print(\"Alpha-Beta Pruning -> 4-Ply Test Case 2: \", minimax_alpha_beta(tree_4ply_2, 4, -99999999, 99999999, True))\n",
        "print(\"Alpha-Beta Pruning -> 4-Ply Test Case 3: \", minimax_alpha_beta(tree_4ply_3, 4, -99999999, 99999999, True))"
      ],
      "metadata": {
        "colab": {
          "base_uri": "https://localhost:8080/"
        },
        "id": "WDsGMtf77OPy",
        "outputId": "c91f5715-5ef0-46b4-8f31-936cd4a4b4b1"
      },
      "execution_count": 44,
      "outputs": [
        {
          "output_type": "stream",
          "name": "stdout",
          "text": [
            "Alpha-Beta Pruning -> 2-Ply Test Case:  -19\n",
            "Alpha-Beta Pruning -> 4-Ply Test Case 1:  6\n",
            "Alpha-Beta Pruning -> 4-Ply Test Case 2:  11\n",
            "Alpha-Beta Pruning -> 4-Ply Test Case 3:  16\n"
          ]
        }
      ]
    }
  ]
}