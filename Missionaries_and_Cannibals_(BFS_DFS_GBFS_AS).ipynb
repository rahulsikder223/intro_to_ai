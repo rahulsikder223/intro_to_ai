{
  "nbformat": 4,
  "nbformat_minor": 0,
  "metadata": {
    "colab": {
      "provenance": []
    },
    "kernelspec": {
      "name": "python3",
      "display_name": "Python 3"
    },
    "language_info": {
      "name": "python"
    }
  },
  "cells": [
    {
      "cell_type": "code",
      "execution_count": 81,
      "metadata": {
        "id": "fkq6rzPHqIHe"
      },
      "outputs": [],
      "source": [
        "def is_valid_state(state):\n",
        "    left_pos, right_pos, boat_pos = state\n",
        "    return 0 <= left_pos[0] <= 3 and 0 <= left_pos[1] <= 3 and 0 <= right_pos[0] <= 3 and 0 <= right_pos[1] <= 3 \\\n",
        "    and not((left_pos[0] < left_pos[1] and left_pos[0] > 0) or (right_pos[0] < right_pos[1] and right_pos[0] > 0))"
      ]
    },
    {
      "cell_type": "code",
      "source": [
        "def is_goal_state(state):\n",
        "    return state == ((0, 0), (3, 3), 'r')"
      ],
      "metadata": {
        "id": "rCk2w40K0qGq"
      },
      "execution_count": 82,
      "outputs": []
    },
    {
      "cell_type": "code",
      "source": [
        "def get_initial_state():\n",
        "    return ((3, 3), (0, 0), 'l')"
      ],
      "metadata": {
        "id": "eygC9yuJwbYS"
      },
      "execution_count": 83,
      "outputs": []
    },
    {
      "cell_type": "code",
      "source": [
        "import random\n",
        "\n",
        "def get_next_possible_states(current_state):\n",
        "    left_pos, right_pos, boat_pos = current_state\n",
        "    next_states = []\n",
        "\n",
        "    if boat_pos == 'l':\n",
        "        left_right_possible = [(0, 1), (0, 2), (1, 1), (1, 0), (2, 0)]\n",
        "        # random.shuffle(left_right_possible)\n",
        "        for pos in left_right_possible:\n",
        "            new_left_pos = (left_pos[0] - pos[0], left_pos[1] - pos[1])\n",
        "            new_right_pos = (right_pos[0] + pos[0], right_pos[1] + pos[1])\n",
        "            if is_valid_state((new_left_pos, new_right_pos, 'r')):\n",
        "                next_states.append((new_left_pos, new_right_pos, 'r'))\n",
        "    else:\n",
        "      # 2 similar People returning is not a valid case...\n",
        "        right_left_possible = [(1, 0), (0, 1), (1, 1)]\n",
        "        # random.shuffle(right_left_possible)\n",
        "        for pos in right_left_possible:\n",
        "            new_left_pos = (left_pos[0] + pos[0], left_pos[1] + pos[1])\n",
        "            new_right_pos = (right_pos[0] - pos[0], right_pos[1] - pos[1])\n",
        "            if is_valid_state((new_left_pos, new_right_pos, 'l')):\n",
        "                next_states.append((new_left_pos, new_right_pos, 'l'))\n",
        "\n",
        "    return next_states"
      ],
      "metadata": {
        "id": "WNuTlLnD0sQC"
      },
      "execution_count": 84,
      "outputs": []
    },
    {
      "cell_type": "code",
      "source": [
        "from collections import deque\n",
        "\n",
        "def breadth_first_search(init):\n",
        "    visited = set()\n",
        "    queue = deque([(init, [init])])\n",
        "\n",
        "    while queue:\n",
        "        current_state, path = queue.popleft()\n",
        "        print('Current State: ', current_state)\n",
        "        if is_goal_state(current_state):\n",
        "            return path\n",
        "\n",
        "        visited.add(current_state)\n",
        "        next_possible_states = get_next_possible_states(current_state)\n",
        "        print('Next Possible States: ', next_possible_states)\n",
        "        for next_state in next_possible_states:\n",
        "            if next_state not in visited:\n",
        "                queue.append((next_state, path + [next_state]))\n",
        "\n",
        "    return None"
      ],
      "metadata": {
        "id": "OpG2e--f0bFr"
      },
      "execution_count": 85,
      "outputs": []
    },
    {
      "cell_type": "code",
      "source": [
        "def depth_first_search(current_state, path, visited):\n",
        "    print('Current State: ', current_state)\n",
        "    if is_goal_state(current_state):\n",
        "        return path\n",
        "\n",
        "    visited.add(current_state)\n",
        "    next_possible_states = get_next_possible_states(current_state)\n",
        "    print('Next Possible States: ', next_possible_states)\n",
        "    for next_state in next_possible_states:\n",
        "        if next_state not in visited:\n",
        "            result = depth_first_search(next_state, path + [next_state], visited)\n",
        "            if result is not None:\n",
        "                return result\n",
        "\n",
        "    return None"
      ],
      "metadata": {
        "id": "_Fd7Pext0ln0"
      },
      "execution_count": 86,
      "outputs": []
    },
    {
      "cell_type": "code",
      "source": [
        "def heuristic(state):\n",
        "    left, right, boat = state\n",
        "    # Heuristic: Sum of missionaries and cannibals in the left bank...\n",
        "\n",
        "    return left[0] + left[1]"
      ],
      "metadata": {
        "id": "vRY6Gqiktaf7"
      },
      "execution_count": 87,
      "outputs": []
    },
    {
      "cell_type": "code",
      "source": [
        "from queue import PriorityQueue\n",
        "\n",
        "def greedy_best_first_search(init):\n",
        "    priority_queue = PriorityQueue()\n",
        "    priority_queue.put((heuristic(init), init))\n",
        "    visited = set()\n",
        "    path = []\n",
        "\n",
        "    while priority_queue:\n",
        "        current_state = priority_queue.get()[1]\n",
        "        path = path + [current_state]\n",
        "        print('Current State: ', current_state)\n",
        "\n",
        "        if is_goal_state(current_state):\n",
        "            return path  # Solution found\n",
        "\n",
        "        if current_state in visited:\n",
        "            continue\n",
        "\n",
        "        visited.add(current_state)\n",
        "\n",
        "        print('Next Possible States: ', get_next_possible_states(current_state))\n",
        "        for successor in get_next_possible_states(current_state):\n",
        "            if successor not in visited:\n",
        "                priority_queue.put((heuristic(successor), successor))\n",
        "\n",
        "    return None"
      ],
      "metadata": {
        "id": "IPLwEUkout0v"
      },
      "execution_count": 88,
      "outputs": []
    },
    {
      "cell_type": "code",
      "source": [
        "def a_star_search(init):\n",
        "    priority_queue = PriorityQueue()\n",
        "    priority_queue.put((heuristic(init), init))\n",
        "    visited = set()\n",
        "    path = []\n",
        "    g_values = {init: 0}\n",
        "\n",
        "    while priority_queue:\n",
        "        current_state = priority_queue.get()[1]\n",
        "        path = path + [current_state]\n",
        "        print('Current State: ', current_state)\n",
        "\n",
        "        if is_goal_state(current_state):\n",
        "            return path  # Solution found\n",
        "\n",
        "        if current_state in visited:\n",
        "            continue\n",
        "\n",
        "        visited.add(current_state)\n",
        "\n",
        "        print('Next Possible States: ', get_next_possible_states(current_state))\n",
        "        for next_state in get_next_possible_states(current_state):\n",
        "            g_value = g_values[current_state] + 1\n",
        "            if next_state not in g_values or g_value < g_values[next_state]:\n",
        "                g_values[next_state] = g_value\n",
        "                f_value = g_value + heuristic(next_state)\n",
        "                priority_queue.put((f_value, next_state))\n",
        "\n",
        "    return None"
      ],
      "metadata": {
        "id": "f8nUQ9o847h5"
      },
      "execution_count": 89,
      "outputs": []
    },
    {
      "cell_type": "code",
      "source": [
        "def display(algorithm, result):\n",
        "    if result:\n",
        "        print('\\n' + algorithm + ' Solution:\\n')\n",
        "        for i, state in enumerate(result):\n",
        "            left_pos, right_pos, boat_pos = state\n",
        "            print(f\"Step {i + 1}: Left: {left_pos} - Right: {right_pos} - Boat: {('left' if boat_pos == 'l' else 'right')}\")\n",
        "    else:\n",
        "        print(\"No Solution...\")"
      ],
      "metadata": {
        "id": "E4Wfum9A1Elr"
      },
      "execution_count": 90,
      "outputs": []
    },
    {
      "cell_type": "code",
      "source": [
        "def driver_breadth_first_search():\n",
        "    init = get_initial_state()\n",
        "    print('\\n\\nRunning Breadth First Search:\\n')\n",
        "    result = breadth_first_search(init)\n",
        "    display('Breadth First Search', result)"
      ],
      "metadata": {
        "id": "3ImW9Ciw0y2C"
      },
      "execution_count": 91,
      "outputs": []
    },
    {
      "cell_type": "code",
      "source": [
        "def driver_depth_first_search():\n",
        "    init = get_initial_state()\n",
        "    visited = set()\n",
        "    path = [init]\n",
        "    print('\\n\\nRunning Depth First Search:\\n')\n",
        "    result = depth_first_search(init, path, visited)\n",
        "    display('Depth First Search', result)"
      ],
      "metadata": {
        "id": "vZJXnPYB0-tL"
      },
      "execution_count": 92,
      "outputs": []
    },
    {
      "cell_type": "code",
      "source": [
        "def driver_greedy_best_first_search():\n",
        "    init = get_initial_state()\n",
        "    print('\\n\\nRunning Greedy Best First Search:\\n')\n",
        "    result = greedy_best_first_search(init)\n",
        "    display('Greedy Best First Search', result)"
      ],
      "metadata": {
        "id": "W5MQZ8IewTA_"
      },
      "execution_count": 93,
      "outputs": []
    },
    {
      "cell_type": "code",
      "source": [
        "def driver_a_star_search():\n",
        "    init = get_initial_state()\n",
        "    print('\\n\\nRunning A* Search:\\n')\n",
        "    result = a_star_search(init)\n",
        "    display('A* Search', result)"
      ],
      "metadata": {
        "id": "zykumRA_8cic"
      },
      "execution_count": 94,
      "outputs": []
    },
    {
      "cell_type": "code",
      "source": [
        "# Call BFS, DFS, GBFS, A*S...\n",
        "\n",
        "driver_breadth_first_search()\n",
        "driver_depth_first_search()\n",
        "driver_greedy_best_first_search()\n",
        "driver_a_star_search()"
      ],
      "metadata": {
        "colab": {
          "base_uri": "https://localhost:8080/"
        },
        "id": "nEFVgtag13A0",
        "outputId": "8f36397e-2995-4676-b5f5-fbf5e70d5a37"
      },
      "execution_count": 95,
      "outputs": [
        {
          "output_type": "stream",
          "name": "stdout",
          "text": [
            "\n",
            "\n",
            "Running Breadth First Search:\n",
            "\n",
            "Current State:  ((3, 3), (0, 0), 'l')\n",
            "Next Possible States:  [((3, 2), (0, 1), 'r'), ((3, 1), (0, 2), 'r'), ((2, 2), (1, 1), 'r')]\n",
            "Current State:  ((3, 2), (0, 1), 'r')\n",
            "Next Possible States:  [((3, 3), (0, 0), 'l')]\n",
            "Current State:  ((3, 1), (0, 2), 'r')\n",
            "Next Possible States:  [((3, 2), (0, 1), 'l')]\n",
            "Current State:  ((2, 2), (1, 1), 'r')\n",
            "Next Possible States:  [((3, 2), (0, 1), 'l'), ((3, 3), (0, 0), 'l')]\n",
            "Current State:  ((3, 2), (0, 1), 'l')\n",
            "Next Possible States:  [((3, 1), (0, 2), 'r'), ((3, 0), (0, 3), 'r'), ((2, 2), (1, 1), 'r')]\n",
            "Current State:  ((3, 2), (0, 1), 'l')\n",
            "Next Possible States:  [((3, 1), (0, 2), 'r'), ((3, 0), (0, 3), 'r'), ((2, 2), (1, 1), 'r')]\n",
            "Current State:  ((3, 0), (0, 3), 'r')\n",
            "Next Possible States:  [((3, 1), (0, 2), 'l')]\n",
            "Current State:  ((3, 0), (0, 3), 'r')\n",
            "Next Possible States:  [((3, 1), (0, 2), 'l')]\n",
            "Current State:  ((3, 1), (0, 2), 'l')\n",
            "Next Possible States:  [((3, 0), (0, 3), 'r'), ((1, 1), (2, 2), 'r')]\n",
            "Current State:  ((3, 1), (0, 2), 'l')\n",
            "Next Possible States:  [((3, 0), (0, 3), 'r'), ((1, 1), (2, 2), 'r')]\n",
            "Current State:  ((1, 1), (2, 2), 'r')\n",
            "Next Possible States:  [((2, 2), (1, 1), 'l')]\n",
            "Current State:  ((1, 1), (2, 2), 'r')\n",
            "Next Possible States:  [((2, 2), (1, 1), 'l')]\n",
            "Current State:  ((2, 2), (1, 1), 'l')\n",
            "Next Possible States:  [((1, 1), (2, 2), 'r'), ((0, 2), (3, 1), 'r')]\n",
            "Current State:  ((2, 2), (1, 1), 'l')\n",
            "Next Possible States:  [((1, 1), (2, 2), 'r'), ((0, 2), (3, 1), 'r')]\n",
            "Current State:  ((0, 2), (3, 1), 'r')\n",
            "Next Possible States:  [((0, 3), (3, 0), 'l')]\n",
            "Current State:  ((0, 2), (3, 1), 'r')\n",
            "Next Possible States:  [((0, 3), (3, 0), 'l')]\n",
            "Current State:  ((0, 3), (3, 0), 'l')\n",
            "Next Possible States:  [((0, 2), (3, 1), 'r'), ((0, 1), (3, 2), 'r')]\n",
            "Current State:  ((0, 3), (3, 0), 'l')\n",
            "Next Possible States:  [((0, 2), (3, 1), 'r'), ((0, 1), (3, 2), 'r')]\n",
            "Current State:  ((0, 1), (3, 2), 'r')\n",
            "Next Possible States:  [((1, 1), (2, 2), 'l'), ((0, 2), (3, 1), 'l')]\n",
            "Current State:  ((0, 1), (3, 2), 'r')\n",
            "Next Possible States:  [((1, 1), (2, 2), 'l'), ((0, 2), (3, 1), 'l')]\n",
            "Current State:  ((1, 1), (2, 2), 'l')\n",
            "Next Possible States:  [((0, 0), (3, 3), 'r'), ((0, 1), (3, 2), 'r')]\n",
            "Current State:  ((0, 2), (3, 1), 'l')\n",
            "Next Possible States:  [((0, 1), (3, 2), 'r'), ((0, 0), (3, 3), 'r')]\n",
            "Current State:  ((1, 1), (2, 2), 'l')\n",
            "Next Possible States:  [((0, 0), (3, 3), 'r'), ((0, 1), (3, 2), 'r')]\n",
            "Current State:  ((0, 2), (3, 1), 'l')\n",
            "Next Possible States:  [((0, 1), (3, 2), 'r'), ((0, 0), (3, 3), 'r')]\n",
            "Current State:  ((0, 0), (3, 3), 'r')\n",
            "\n",
            "Breadth First Search Solution:\n",
            "\n",
            "Step 1: Left: (3, 3) - Right: (0, 0) - Boat: left\n",
            "Step 2: Left: (3, 1) - Right: (0, 2) - Boat: right\n",
            "Step 3: Left: (3, 2) - Right: (0, 1) - Boat: left\n",
            "Step 4: Left: (3, 0) - Right: (0, 3) - Boat: right\n",
            "Step 5: Left: (3, 1) - Right: (0, 2) - Boat: left\n",
            "Step 6: Left: (1, 1) - Right: (2, 2) - Boat: right\n",
            "Step 7: Left: (2, 2) - Right: (1, 1) - Boat: left\n",
            "Step 8: Left: (0, 2) - Right: (3, 1) - Boat: right\n",
            "Step 9: Left: (0, 3) - Right: (3, 0) - Boat: left\n",
            "Step 10: Left: (0, 1) - Right: (3, 2) - Boat: right\n",
            "Step 11: Left: (1, 1) - Right: (2, 2) - Boat: left\n",
            "Step 12: Left: (0, 0) - Right: (3, 3) - Boat: right\n",
            "\n",
            "\n",
            "Running Depth First Search:\n",
            "\n",
            "Current State:  ((3, 3), (0, 0), 'l')\n",
            "Next Possible States:  [((3, 2), (0, 1), 'r'), ((3, 1), (0, 2), 'r'), ((2, 2), (1, 1), 'r')]\n",
            "Current State:  ((3, 2), (0, 1), 'r')\n",
            "Next Possible States:  [((3, 3), (0, 0), 'l')]\n",
            "Current State:  ((3, 1), (0, 2), 'r')\n",
            "Next Possible States:  [((3, 2), (0, 1), 'l')]\n",
            "Current State:  ((3, 2), (0, 1), 'l')\n",
            "Next Possible States:  [((3, 1), (0, 2), 'r'), ((3, 0), (0, 3), 'r'), ((2, 2), (1, 1), 'r')]\n",
            "Current State:  ((3, 0), (0, 3), 'r')\n",
            "Next Possible States:  [((3, 1), (0, 2), 'l')]\n",
            "Current State:  ((3, 1), (0, 2), 'l')\n",
            "Next Possible States:  [((3, 0), (0, 3), 'r'), ((1, 1), (2, 2), 'r')]\n",
            "Current State:  ((1, 1), (2, 2), 'r')\n",
            "Next Possible States:  [((2, 2), (1, 1), 'l')]\n",
            "Current State:  ((2, 2), (1, 1), 'l')\n",
            "Next Possible States:  [((1, 1), (2, 2), 'r'), ((0, 2), (3, 1), 'r')]\n",
            "Current State:  ((0, 2), (3, 1), 'r')\n",
            "Next Possible States:  [((0, 3), (3, 0), 'l')]\n",
            "Current State:  ((0, 3), (3, 0), 'l')\n",
            "Next Possible States:  [((0, 2), (3, 1), 'r'), ((0, 1), (3, 2), 'r')]\n",
            "Current State:  ((0, 1), (3, 2), 'r')\n",
            "Next Possible States:  [((1, 1), (2, 2), 'l'), ((0, 2), (3, 1), 'l')]\n",
            "Current State:  ((1, 1), (2, 2), 'l')\n",
            "Next Possible States:  [((0, 0), (3, 3), 'r'), ((0, 1), (3, 2), 'r')]\n",
            "Current State:  ((0, 0), (3, 3), 'r')\n",
            "\n",
            "Depth First Search Solution:\n",
            "\n",
            "Step 1: Left: (3, 3) - Right: (0, 0) - Boat: left\n",
            "Step 2: Left: (3, 1) - Right: (0, 2) - Boat: right\n",
            "Step 3: Left: (3, 2) - Right: (0, 1) - Boat: left\n",
            "Step 4: Left: (3, 0) - Right: (0, 3) - Boat: right\n",
            "Step 5: Left: (3, 1) - Right: (0, 2) - Boat: left\n",
            "Step 6: Left: (1, 1) - Right: (2, 2) - Boat: right\n",
            "Step 7: Left: (2, 2) - Right: (1, 1) - Boat: left\n",
            "Step 8: Left: (0, 2) - Right: (3, 1) - Boat: right\n",
            "Step 9: Left: (0, 3) - Right: (3, 0) - Boat: left\n",
            "Step 10: Left: (0, 1) - Right: (3, 2) - Boat: right\n",
            "Step 11: Left: (1, 1) - Right: (2, 2) - Boat: left\n",
            "Step 12: Left: (0, 0) - Right: (3, 3) - Boat: right\n",
            "\n",
            "\n",
            "Running Greedy Best First Search:\n",
            "\n",
            "Current State:  ((3, 3), (0, 0), 'l')\n",
            "Next Possible States:  [((3, 2), (0, 1), 'r'), ((3, 1), (0, 2), 'r'), ((2, 2), (1, 1), 'r')]\n",
            "Current State:  ((2, 2), (1, 1), 'r')\n",
            "Next Possible States:  [((3, 2), (0, 1), 'l'), ((3, 3), (0, 0), 'l')]\n",
            "Current State:  ((3, 1), (0, 2), 'r')\n",
            "Next Possible States:  [((3, 2), (0, 1), 'l')]\n",
            "Current State:  ((3, 2), (0, 1), 'l')\n",
            "Next Possible States:  [((3, 1), (0, 2), 'r'), ((3, 0), (0, 3), 'r'), ((2, 2), (1, 1), 'r')]\n",
            "Current State:  ((3, 0), (0, 3), 'r')\n",
            "Next Possible States:  [((3, 1), (0, 2), 'l')]\n",
            "Current State:  ((3, 1), (0, 2), 'l')\n",
            "Next Possible States:  [((3, 0), (0, 3), 'r'), ((1, 1), (2, 2), 'r')]\n",
            "Current State:  ((1, 1), (2, 2), 'r')\n",
            "Next Possible States:  [((2, 2), (1, 1), 'l')]\n",
            "Current State:  ((2, 2), (1, 1), 'l')\n",
            "Next Possible States:  [((1, 1), (2, 2), 'r'), ((0, 2), (3, 1), 'r')]\n",
            "Current State:  ((0, 2), (3, 1), 'r')\n",
            "Next Possible States:  [((0, 3), (3, 0), 'l')]\n",
            "Current State:  ((0, 3), (3, 0), 'l')\n",
            "Next Possible States:  [((0, 2), (3, 1), 'r'), ((0, 1), (3, 2), 'r')]\n",
            "Current State:  ((0, 1), (3, 2), 'r')\n",
            "Next Possible States:  [((1, 1), (2, 2), 'l'), ((0, 2), (3, 1), 'l')]\n",
            "Current State:  ((0, 2), (3, 1), 'l')\n",
            "Next Possible States:  [((0, 1), (3, 2), 'r'), ((0, 0), (3, 3), 'r')]\n",
            "Current State:  ((0, 0), (3, 3), 'r')\n",
            "\n",
            "Greedy Best First Search Solution:\n",
            "\n",
            "Step 1: Left: (3, 3) - Right: (0, 0) - Boat: left\n",
            "Step 2: Left: (2, 2) - Right: (1, 1) - Boat: right\n",
            "Step 3: Left: (3, 1) - Right: (0, 2) - Boat: right\n",
            "Step 4: Left: (3, 2) - Right: (0, 1) - Boat: left\n",
            "Step 5: Left: (3, 0) - Right: (0, 3) - Boat: right\n",
            "Step 6: Left: (3, 1) - Right: (0, 2) - Boat: left\n",
            "Step 7: Left: (1, 1) - Right: (2, 2) - Boat: right\n",
            "Step 8: Left: (2, 2) - Right: (1, 1) - Boat: left\n",
            "Step 9: Left: (0, 2) - Right: (3, 1) - Boat: right\n",
            "Step 10: Left: (0, 3) - Right: (3, 0) - Boat: left\n",
            "Step 11: Left: (0, 1) - Right: (3, 2) - Boat: right\n",
            "Step 12: Left: (0, 2) - Right: (3, 1) - Boat: left\n",
            "Step 13: Left: (0, 0) - Right: (3, 3) - Boat: right\n",
            "\n",
            "\n",
            "Running A* Search:\n",
            "\n",
            "Current State:  ((3, 3), (0, 0), 'l')\n",
            "Next Possible States:  [((3, 2), (0, 1), 'r'), ((3, 1), (0, 2), 'r'), ((2, 2), (1, 1), 'r')]\n",
            "Current State:  ((2, 2), (1, 1), 'r')\n",
            "Next Possible States:  [((3, 2), (0, 1), 'l'), ((3, 3), (0, 0), 'l')]\n",
            "Current State:  ((3, 1), (0, 2), 'r')\n",
            "Next Possible States:  [((3, 2), (0, 1), 'l')]\n",
            "Current State:  ((3, 2), (0, 1), 'r')\n",
            "Next Possible States:  [((3, 3), (0, 0), 'l')]\n",
            "Current State:  ((3, 2), (0, 1), 'l')\n",
            "Next Possible States:  [((3, 1), (0, 2), 'r'), ((3, 0), (0, 3), 'r'), ((2, 2), (1, 1), 'r')]\n",
            "Current State:  ((3, 0), (0, 3), 'r')\n",
            "Next Possible States:  [((3, 1), (0, 2), 'l')]\n",
            "Current State:  ((3, 1), (0, 2), 'l')\n",
            "Next Possible States:  [((3, 0), (0, 3), 'r'), ((1, 1), (2, 2), 'r')]\n",
            "Current State:  ((1, 1), (2, 2), 'r')\n",
            "Next Possible States:  [((2, 2), (1, 1), 'l')]\n",
            "Current State:  ((2, 2), (1, 1), 'l')\n",
            "Next Possible States:  [((1, 1), (2, 2), 'r'), ((0, 2), (3, 1), 'r')]\n",
            "Current State:  ((0, 2), (3, 1), 'r')\n",
            "Next Possible States:  [((0, 3), (3, 0), 'l')]\n",
            "Current State:  ((0, 3), (3, 0), 'l')\n",
            "Next Possible States:  [((0, 2), (3, 1), 'r'), ((0, 1), (3, 2), 'r')]\n",
            "Current State:  ((0, 1), (3, 2), 'r')\n",
            "Next Possible States:  [((1, 1), (2, 2), 'l'), ((0, 2), (3, 1), 'l')]\n",
            "Current State:  ((0, 2), (3, 1), 'l')\n",
            "Next Possible States:  [((0, 1), (3, 2), 'r'), ((0, 0), (3, 3), 'r')]\n",
            "Current State:  ((0, 0), (3, 3), 'r')\n",
            "\n",
            "A* Search Solution:\n",
            "\n",
            "Step 1: Left: (3, 3) - Right: (0, 0) - Boat: left\n",
            "Step 2: Left: (2, 2) - Right: (1, 1) - Boat: right\n",
            "Step 3: Left: (3, 1) - Right: (0, 2) - Boat: right\n",
            "Step 4: Left: (3, 2) - Right: (0, 1) - Boat: right\n",
            "Step 5: Left: (3, 2) - Right: (0, 1) - Boat: left\n",
            "Step 6: Left: (3, 0) - Right: (0, 3) - Boat: right\n",
            "Step 7: Left: (3, 1) - Right: (0, 2) - Boat: left\n",
            "Step 8: Left: (1, 1) - Right: (2, 2) - Boat: right\n",
            "Step 9: Left: (2, 2) - Right: (1, 1) - Boat: left\n",
            "Step 10: Left: (0, 2) - Right: (3, 1) - Boat: right\n",
            "Step 11: Left: (0, 3) - Right: (3, 0) - Boat: left\n",
            "Step 12: Left: (0, 1) - Right: (3, 2) - Boat: right\n",
            "Step 13: Left: (0, 2) - Right: (3, 1) - Boat: left\n",
            "Step 14: Left: (0, 0) - Right: (3, 3) - Boat: right\n"
          ]
        }
      ]
    }
  ]
}